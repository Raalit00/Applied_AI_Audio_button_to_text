{
 "cells": [
  {
   "cell_type": "code",
   "execution_count": 2,
   "metadata": {},
   "outputs": [
    {
     "name": "stdout",
     "output_type": "stream",
     "text": [
      "Collecting soundfile\n",
      "  Downloading soundfile-0.12.1-py2.py3-none-win_amd64.whl (1.0 MB)\n",
      "     ---------------------------------------- 1.0/1.0 MB 9.2 MB/s eta 0:00:00\n",
      "Requirement already satisfied: cffi>=1.0 in c:\\users\\rahgi\\anaconda3\\envs\\stats\\lib\\site-packages (from soundfile) (1.15.1)\n",
      "Requirement already satisfied: pycparser in c:\\users\\rahgi\\anaconda3\\envs\\stats\\lib\\site-packages (from cffi>=1.0->soundfile) (2.21)\n",
      "Installing collected packages: soundfile\n",
      "Successfully installed soundfile-0.12.1\n"
     ]
    }
   ],
   "source": [
    "#!pip install soundfile \n",
    "!#pip install pynput"
   ]
  },
  {
   "cell_type": "code",
   "execution_count": 1,
   "metadata": {},
   "outputs": [
    {
     "name": "stdout",
     "output_type": "stream",
     "text": [
      "Audio saved as ./Data/esc_2024-01-17_17-02-30.wav\n"
     ]
    }
   ],
   "source": [
    "import sounddevice as sd\n",
    "import numpy as np\n",
    "import queue\n",
    "import threading\n",
    "import soundfile as sf\n",
    "import datetime\n",
    "from pynput import keyboard\n",
    "\n",
    "# Globale Variablen\n",
    "SAMPLING_RATE = 44100\n",
    "BUFFER_DURATION = 0.6  # 0.1 Sekunden vor und 1 Sekunde nach dem Drücken\n",
    "buffer_size = int(BUFFER_DURATION * SAMPLING_RATE)\n",
    "audio_buffer = np.zeros((buffer_size, 2), dtype=np.float32)\n",
    "audio_queue = queue.Queue()\n",
    "\n",
    "# Funktion, um kontinuierlich Audio aufzunehmen\n",
    "def audio_callback(indata, frames, time, status):\n",
    "    global audio_buffer\n",
    "    audio_buffer = np.roll(audio_buffer, -frames, axis=0)\n",
    "    audio_buffer[-frames:, :] = indata\n",
    "\n",
    "# Starten der kontinuierlichen Aufnahme\n",
    "stream = sd.InputStream(callback=audio_callback, channels=2, samplerate=SAMPLING_RATE)\n",
    "stream.start()\n",
    "\n",
    "# Funktion zum Speichern der Audiodaten\n",
    "def save_audio():\n",
    "    while True:\n",
    "        item = audio_queue.get()\n",
    "        if item is None:\n",
    "            break  # Beenden, wenn None als Signal zum Beenden empfangen wird\n",
    "        audio_data, key_name = item\n",
    "        filename = f\"./Data/{key_name}_{datetime.datetime.now().strftime('%Y-%m-%d_%H-%M-%S')}.wav\"\n",
    "        sf.write(filename, audio_data, SAMPLING_RATE)\n",
    "        print(f\"Audio saved as {filename}\")\n",
    "\n",
    "# Funktion, um auf Tastendruck zu reagieren\n",
    "def on_press(key):\n",
    "    try:\n",
    "        key_name = key.char  # Versuche, das Zeichen der Taste zu erhalten\n",
    "    except AttributeError:\n",
    "        key_name = key.name  # Wenn es kein Zeichen gibt, verwende den Namen der Taste\n",
    "\n",
    "    current_buffer = np.copy(audio_buffer)\n",
    "    audio_queue.put((current_buffer, key_name))\n",
    "\n",
    "    if key == keyboard.Key.esc:\n",
    "        # Beenden, wenn die Escape-Taste gedrückt wird\n",
    "        return False\n",
    "\n",
    "# Listener für Tastatureingaben\n",
    "listener = keyboard.Listener(on_press=on_press)\n",
    "listener.start()\n",
    "\n",
    "# Starten des Speicher-Threads\n",
    "save_thread = threading.Thread(target=save_audio)\n",
    "save_thread.start()\n",
    "\n",
    "# Warte, bis der Listener beendet wird (durch Drücken der Escape-Taste)\n",
    "listener.join()\n",
    "\n",
    "# Signal zum Beenden an den Speicher-Thread senden und warten\n",
    "audio_queue.put(None)\n",
    "save_thread.join()"
   ]
  }
 ],
 "metadata": {
  "anaconda-cloud": {},
  "celltoolbar": "Slideshow",
  "kernelspec": {
   "display_name": "Python 3 (ipykernel)",
   "language": "python",
   "name": "python3"
  },
  "language_info": {
   "codemirror_mode": {
    "name": "ipython",
    "version": 3
   },
   "file_extension": ".py",
   "mimetype": "text/x-python",
   "name": "python",
   "nbconvert_exporter": "python",
   "pygments_lexer": "ipython3",
   "version": "3.9.15"
  },
  "nav_menu": {},
  "toc": {
   "base_numbering": 1,
   "nav_menu": {},
   "number_sections": true,
   "sideBar": true,
   "skip_h1_title": false,
   "title_cell": "Table of Contents",
   "title_sidebar": "Contents",
   "toc_cell": false,
   "toc_position": {},
   "toc_section_display": "block",
   "toc_window_display": false
  },
  "toc-autonumbering": true,
  "toc_position": {
   "height": "918px",
   "left": "0px",
   "right": "1793.2px",
   "top": "123.9px",
   "width": "321px"
  },
  "varInspector": {
   "cols": {
    "lenName": 16,
    "lenType": 16,
    "lenVar": 40
   },
   "kernels_config": {
    "python": {
     "delete_cmd_postfix": "",
     "delete_cmd_prefix": "del ",
     "library": "var_list.py",
     "varRefreshCmd": "print(var_dic_list())"
    },
    "r": {
     "delete_cmd_postfix": ") ",
     "delete_cmd_prefix": "rm(",
     "library": "var_list.r",
     "varRefreshCmd": "cat(var_dic_list()) "
    }
   },
   "types_to_exclude": [
    "module",
    "function",
    "builtin_function_or_method",
    "instance",
    "_Feature"
   ],
   "window_display": false
  }
 },
 "nbformat": 4,
 "nbformat_minor": 4
}
